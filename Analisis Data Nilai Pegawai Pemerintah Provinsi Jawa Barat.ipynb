{
 "cells": [
  {
   "cell_type": "markdown",
   "metadata": {},
   "source": [
    "# Analisis Data Nilai Pegawai\n",
    "\n",
    "## Pendahuluan\n",
    "Pemerintah Provinsi Jawa Barat ingin mengevaluasi performa kinerja Aparatur Sipil Negara dengan melakukan penilaian pada setiap pegawai. Nilai yang dihasilkan merupakan hasil kalkulasi pembobotan dari beberapa kriteria yang sudah ditentukan. Kami ingin dapat mengevaluasi seluruh pegawai sehingga kami dapat mengklasifikasikan manakah pegawai dengan performa yang sangat baik dan sebaliknya. Hasil ini dapat menjadi _judgement_ yang adil dan menjadi _support_ untuk pengambilan kebijakan.\n",
    "\n",
    "## Permasalahan\n",
    "Dari data yang telah kami sediakan pada lampiran “Data Nilai Pegawai”, bagaimana _insight_ yang dapat anda temukan. Untuk hal-hal yang tidak anda ketahui, buatlah asumsi dan fokuslah untuk memberikan solusi. \n",
    "\n",
    "1. Berikan rekomendasi bagaimana anda dapat membandingkan performa satu pegawai dengan pegawai yang lain? \n",
    "2. Dapatkah anda menyimpulkan siapa pegawai yang memiliki performa yang sangat baik dan sebaliknya?"
   ]
  },
  {
   "cell_type": "markdown",
   "metadata": {},
   "source": [
    "## Import Package and Load Data\n",
    "Masukkan package yang yang akan digunakan dalam analisis data."
   ]
  },
  {
   "cell_type": "code",
   "execution_count": 1,
   "metadata": {},
   "outputs": [],
   "source": [
    "import os\n",
    "import pandas as pd\n",
    "import numpy as np\n",
    "%matplotlib inline\n",
    "import matplotlib.pyplot as plt\n",
    "import seaborn as sns; sns.set(style=\"whitegrid\")\n",
    "from scipy import stats"
   ]
  },
  {
   "cell_type": "markdown",
   "metadata": {},
   "source": [
    "Selanjutnya adalah membaca file yang telah diberikan."
   ]
  },
  {
   "cell_type": "code",
   "execution_count": 2,
   "metadata": {},
   "outputs": [],
   "source": [
    "os.chdir(\"D:\\\\Jobs\")\n",
    "data = pd.read_excel(\"Data Nilai Pegawai.xlsx\")"
   ]
  },
  {
   "cell_type": "markdown",
   "metadata": {},
   "source": [
    "## Exploratory Data Analysis\n",
    "Membaca kesimpulan awal dari data mengenai tipe data setiap kolom dan banyaknya _missing values_."
   ]
  },
  {
   "cell_type": "code",
   "execution_count": 3,
   "metadata": {},
   "outputs": [
    {
     "name": "stdout",
     "output_type": "stream",
     "text": [
      "    ID PERSON Tingkat Pendidikan Akhir  Usia Satuan Kerja Bulan    Nilai\n",
      "0        1001                       S3    61      DINAS B  Juli  7.88436\n",
      "1        1002                     SLTA    59      DINAS A  Juli  6.95183\n",
      "2        1003                       S2    57      BADAN D  Juli  8.18452\n",
      "3        1004                       SD    56      DINAS B  Juli  6.55612\n",
      "4        1005                       D3    54      DINAS B  Juli  6.34694\n",
      "5        1006                       D3    48      DINAS B  Juli  6.79435\n",
      "6        1007                     SLTA    47      DINAS B  Juli  6.54592\n",
      "7        1008                       S1    47      BADAN B  Juli  7.17857\n",
      "8        1009                       D3    47      DINAS P  Juli  7.48516\n",
      "9        1010                       D3    43      DINAS A  Juli  7.19048\n",
      "10       1011                     SLTP    43      DINAS F  Juli  7.15193\n",
      "11       1012                       D4    42      DINAS F  Juli  6.37670\n",
      "12       1013                       S1    42      BADAN B  Juli  7.54592\n",
      "13       1014                     SLTA    42      BADAN B  Juli  7.37848\n",
      "14       1015                       S1    41      BADAN D  Juli  7.60423\n",
      "15       1016                       S1    41      DINAS F  Juli  7.00234\n",
      "16       1017                       D3    40      DINAS P  Juli  7.18027\n",
      "17       1018                       S1    39      DINAS F  Juli  7.47704\n",
      "18       1019                       D4    39      BADAN B  Juli  6.47174\n",
      "19       1020                       S1    38      DINAS A  Juli  7.13010\n",
      "20       1021                       S1    35      DINAS P  Juli  7.32173\n",
      "21       1022                     SLTA    34      DINAS P  Juli  6.90179\n",
      "22       1023                       S1    32      DINAS F  Juli  7.19260\n",
      "23       1024                       S1    28      DINAS P  Juli  7.19048\n",
      "24       1025                       D4    27      BADAN D  Juli  7.68367\n",
      "25       1026                       S1    25      BADAN D  Juli  7.10204\n",
      "26       1027                       S1    25      DINAS A  Juli  7.26531\n",
      "27       1028                       S1    25      DINAS A  Juli  8.40363\n",
      "28       1029                       S1    25      BADAN B  Juli  7.04317\n",
      "29       1030                       S1    25      BADAN D  Juli  7.03231\n"
     ]
    }
   ],
   "source": [
    "print(data)"
   ]
  },
  {
   "cell_type": "code",
   "execution_count": 4,
   "metadata": {},
   "outputs": [
    {
     "name": "stdout",
     "output_type": "stream",
     "text": [
      "<class 'pandas.core.frame.DataFrame'>\n",
      "RangeIndex: 30 entries, 0 to 29\n",
      "Data columns (total 6 columns):\n",
      "ID PERSON                   30 non-null int64\n",
      "Tingkat Pendidikan Akhir    30 non-null object\n",
      "Usia                        30 non-null int64\n",
      "Satuan Kerja                30 non-null object\n",
      "Bulan                       30 non-null object\n",
      "Nilai                       30 non-null float64\n",
      "dtypes: float64(1), int64(2), object(3)\n",
      "memory usage: 1.5+ KB\n"
     ]
    }
   ],
   "source": [
    "data.info()"
   ]
  },
  {
   "cell_type": "markdown",
   "metadata": {},
   "source": [
    "Data yang diberikan berisi 30 entri dan tidak mengandung _missing value_ sama sekali sehingga data valid untuk dianalisis."
   ]
  },
  {
   "cell_type": "code",
   "execution_count": 5,
   "metadata": {
    "scrolled": true
   },
   "outputs": [
    {
     "data": {
      "text/html": [
       "<div>\n",
       "<style scoped>\n",
       "    .dataframe tbody tr th:only-of-type {\n",
       "        vertical-align: middle;\n",
       "    }\n",
       "\n",
       "    .dataframe tbody tr th {\n",
       "        vertical-align: top;\n",
       "    }\n",
       "\n",
       "    .dataframe thead th {\n",
       "        text-align: right;\n",
       "    }\n",
       "</style>\n",
       "<table border=\"1\" class=\"dataframe\">\n",
       "  <thead>\n",
       "    <tr style=\"text-align: right;\">\n",
       "      <th></th>\n",
       "      <th>ID PERSON</th>\n",
       "      <th>Tingkat Pendidikan Akhir</th>\n",
       "      <th>Usia</th>\n",
       "      <th>Satuan Kerja</th>\n",
       "      <th>Bulan</th>\n",
       "      <th>Nilai</th>\n",
       "    </tr>\n",
       "  </thead>\n",
       "  <tbody>\n",
       "    <tr>\n",
       "      <th>count</th>\n",
       "      <td>30.000000</td>\n",
       "      <td>30</td>\n",
       "      <td>30.000000</td>\n",
       "      <td>30</td>\n",
       "      <td>30</td>\n",
       "      <td>30.000000</td>\n",
       "    </tr>\n",
       "    <tr>\n",
       "      <th>unique</th>\n",
       "      <td>NaN</td>\n",
       "      <td>8</td>\n",
       "      <td>NaN</td>\n",
       "      <td>6</td>\n",
       "      <td>1</td>\n",
       "      <td>NaN</td>\n",
       "    </tr>\n",
       "    <tr>\n",
       "      <th>top</th>\n",
       "      <td>NaN</td>\n",
       "      <td>S1</td>\n",
       "      <td>NaN</td>\n",
       "      <td>DINAS P</td>\n",
       "      <td>Juli</td>\n",
       "      <td>NaN</td>\n",
       "    </tr>\n",
       "    <tr>\n",
       "      <th>freq</th>\n",
       "      <td>NaN</td>\n",
       "      <td>14</td>\n",
       "      <td>NaN</td>\n",
       "      <td>5</td>\n",
       "      <td>30</td>\n",
       "      <td>NaN</td>\n",
       "    </tr>\n",
       "    <tr>\n",
       "      <th>mean</th>\n",
       "      <td>1015.500000</td>\n",
       "      <td>NaN</td>\n",
       "      <td>40.233333</td>\n",
       "      <td>NaN</td>\n",
       "      <td>NaN</td>\n",
       "      <td>7.185791</td>\n",
       "    </tr>\n",
       "    <tr>\n",
       "      <th>std</th>\n",
       "      <td>8.803408</td>\n",
       "      <td>NaN</td>\n",
       "      <td>10.753294</td>\n",
       "      <td>NaN</td>\n",
       "      <td>NaN</td>\n",
       "      <td>0.484566</td>\n",
       "    </tr>\n",
       "    <tr>\n",
       "      <th>min</th>\n",
       "      <td>1001.000000</td>\n",
       "      <td>NaN</td>\n",
       "      <td>25.000000</td>\n",
       "      <td>NaN</td>\n",
       "      <td>NaN</td>\n",
       "      <td>6.346940</td>\n",
       "    </tr>\n",
       "    <tr>\n",
       "      <th>25%</th>\n",
       "      <td>1008.250000</td>\n",
       "      <td>NaN</td>\n",
       "      <td>32.500000</td>\n",
       "      <td>NaN</td>\n",
       "      <td>NaN</td>\n",
       "      <td>6.964457</td>\n",
       "    </tr>\n",
       "    <tr>\n",
       "      <th>50%</th>\n",
       "      <td>1015.500000</td>\n",
       "      <td>NaN</td>\n",
       "      <td>41.000000</td>\n",
       "      <td>NaN</td>\n",
       "      <td>NaN</td>\n",
       "      <td>7.179420</td>\n",
       "    </tr>\n",
       "    <tr>\n",
       "      <th>75%</th>\n",
       "      <td>1022.750000</td>\n",
       "      <td>NaN</td>\n",
       "      <td>47.000000</td>\n",
       "      <td>NaN</td>\n",
       "      <td>NaN</td>\n",
       "      <td>7.452400</td>\n",
       "    </tr>\n",
       "    <tr>\n",
       "      <th>max</th>\n",
       "      <td>1030.000000</td>\n",
       "      <td>NaN</td>\n",
       "      <td>61.000000</td>\n",
       "      <td>NaN</td>\n",
       "      <td>NaN</td>\n",
       "      <td>8.403630</td>\n",
       "    </tr>\n",
       "  </tbody>\n",
       "</table>\n",
       "</div>"
      ],
      "text/plain": [
       "          ID PERSON Tingkat Pendidikan Akhir       Usia Satuan Kerja Bulan  \\\n",
       "count     30.000000                       30  30.000000           30    30   \n",
       "unique          NaN                        8        NaN            6     1   \n",
       "top             NaN                       S1        NaN      DINAS P  Juli   \n",
       "freq            NaN                       14        NaN            5    30   \n",
       "mean    1015.500000                      NaN  40.233333          NaN   NaN   \n",
       "std        8.803408                      NaN  10.753294          NaN   NaN   \n",
       "min     1001.000000                      NaN  25.000000          NaN   NaN   \n",
       "25%     1008.250000                      NaN  32.500000          NaN   NaN   \n",
       "50%     1015.500000                      NaN  41.000000          NaN   NaN   \n",
       "75%     1022.750000                      NaN  47.000000          NaN   NaN   \n",
       "max     1030.000000                      NaN  61.000000          NaN   NaN   \n",
       "\n",
       "            Nilai  \n",
       "count   30.000000  \n",
       "unique        NaN  \n",
       "top           NaN  \n",
       "freq          NaN  \n",
       "mean     7.185791  \n",
       "std      0.484566  \n",
       "min      6.346940  \n",
       "25%      6.964457  \n",
       "50%      7.179420  \n",
       "75%      7.452400  \n",
       "max      8.403630  "
      ]
     },
     "execution_count": 5,
     "metadata": {},
     "output_type": "execute_result"
    }
   ],
   "source": [
    "data.describe(include='all')"
   ]
  },
  {
   "cell_type": "markdown",
   "metadata": {},
   "source": [
    "Dari keterangan di atas, dapat dilihat bahwa terdapat delapan jenis tingkat pendidikan akhir, dengan tingkat pendidikan akhir terbanyak yaitu S1 (14 orang).\n",
    "Sementara itu, rata-rata umur pegawai adalah 40.2 tahun. Pegawai termuda berusia 25 tahun dan pegawai tertua berusia 61 tahun. Nilai rata-rata pegawai adalah 7.19 secara keseluruhan, dengan nilai minimum 6.35 dan maksimum 8.40. Nilai-nilai tersebut akan diuraikan lebih lanjut untuk mendapatkan pola persebaran nilainya. Sebagai tambahan, kolom Bulan tidak menggambarkan apapun untuk data ini."
   ]
  },
  {
   "cell_type": "markdown",
   "metadata": {},
   "source": [
    "- Usia\n",
    "\n",
    "Pegawai pemprov Jabar memiliki persebaran yang unik. Meskipun didominasi oleh rentang umur 35-50 tahun, pemprov Jabar ternyata saat ini mengandalkan anak-anak muda untuk menjalankan aktivitasnya. Terlihat dalam diagram batang bahwa pegawai dengan rentang usia 25-30 tahun juga unggul dalam segi jumlah. "
   ]
  },
  {
   "cell_type": "code",
   "execution_count": 6,
   "metadata": {
    "scrolled": true
   },
   "outputs": [
    {
     "data": {
      "text/plain": [
       "25    5\n",
       "42    3\n",
       "47    3\n",
       "43    2\n",
       "39    2\n",
       "41    2\n",
       "34    1\n",
       "35    1\n",
       "38    1\n",
       "40    1\n",
       "61    1\n",
       "28    1\n",
       "48    1\n",
       "27    1\n",
       "54    1\n",
       "56    1\n",
       "57    1\n",
       "59    1\n",
       "32    1\n",
       "Name: Usia, dtype: int64"
      ]
     },
     "execution_count": 6,
     "metadata": {},
     "output_type": "execute_result"
    }
   ],
   "source": [
    "data[\"Usia\"].value_counts()"
   ]
  },
  {
   "cell_type": "code",
   "execution_count": 7,
   "metadata": {},
   "outputs": [
    {
     "data": {
      "image/png": "[encoded data removed]",
      "text/plain": [
       "<Figure size 432x288 with 1 Axes>"
      ]
     },
     "metadata": {
      "needs_background": "light"
     },
     "output_type": "display_data"
    }
   ],
   "source": [
    "plt.hist(data[\"Usia\"],bins=[25,30,35,40,45,50,55,60,65])\n",
    "plt.title(\"Persebaran usia pegawai pemprov Jawa Barat\")\n",
    "plt.show()"
   ]
  },
  {
   "cell_type": "markdown",
   "metadata": {},
   "source": [
    "- Satuan Kerja\n",
    "\n",
    "Dalam data ini persebaran pegawai merata dengan diisi lima orang setiap badan atau dinas."
   ]
  },
  {
   "cell_type": "code",
   "execution_count": 8,
   "metadata": {},
   "outputs": [
    {
     "data": {
      "text/plain": [
       "DINAS P    5\n",
       "DINAS F    5\n",
       "BADAN D    5\n",
       "DINAS A    5\n",
       "BADAN B    5\n",
       "DINAS B    5\n",
       "Name: Satuan Kerja, dtype: int64"
      ]
     },
     "execution_count": 8,
     "metadata": {},
     "output_type": "execute_result"
    }
   ],
   "source": [
    "data[\"Satuan Kerja\"].value_counts()"
   ]
  },
  {
   "cell_type": "code",
   "execution_count": 9,
   "metadata": {},
   "outputs": [
    {
     "data": {
      "image/png": "[encoded data removed]",
      "text/plain": [
       "<Figure size 432x288 with 1 Axes>"
      ]
     },
     "metadata": {
      "needs_background": "light"
     },
     "output_type": "display_data"
    }
   ],
   "source": [
    "sns.countplot(x = data[\"Satuan Kerja\"],color=\"b\",order=[\"BADAN B\",\"BADAN D\",\"DINAS A\",\"DINAS B\",\"DINAS F\",\"DINAS P\"])\n",
    "plt.ylabel('Jumlah')\n",
    "plt.show()"
   ]
  },
  {
   "cell_type": "markdown",
   "metadata": {},
   "source": [
    "- Tingkat Pendidikan Akhir\n",
    "\n",
    "Berdasarkan tingkat pendidikan, pegawai pemprov Jabar didominasi oleh lulusan S1. Menyusul lulusan D3 dan SLTA di peringkat kedua dan ketiga."
   ]
  },
  {
   "cell_type": "code",
   "execution_count": 10,
   "metadata": {},
   "outputs": [
    {
     "data": {
      "text/plain": [
       "S1      14\n",
       "D3       5\n",
       "SLTA     4\n",
       "D4       3\n",
       "SLTP     1\n",
       "SD       1\n",
       "S3       1\n",
       "S2       1\n",
       "Name: Tingkat Pendidikan Akhir, dtype: int64"
      ]
     },
     "execution_count": 10,
     "metadata": {},
     "output_type": "execute_result"
    }
   ],
   "source": [
    "data[\"Tingkat Pendidikan Akhir\"].value_counts()"
   ]
  },
  {
   "cell_type": "code",
   "execution_count": 11,
   "metadata": {
    "scrolled": true
   },
   "outputs": [
    {
     "data": {
      "image/png": "[encoded data removed]",
      "text/plain": [
       "<Figure size 432x288 with 1 Axes>"
      ]
     },
     "metadata": {
      "needs_background": "light"
     },
     "output_type": "display_data"
    }
   ],
   "source": [
    "sns.countplot(x = data[\"Tingkat Pendidikan Akhir\"],color=\"b\",order=[\"S3\",\"S2\",\"S1\",\"D4\",\"D3\",\"SLTA\",\"SLTP\",\"SD\"])\n",
    "plt.ylabel('Jumlah')\n",
    "plt.show()"
   ]
  },
  {
   "cell_type": "markdown",
   "metadata": {},
   "source": [
    "- Nilai\n",
    "\n",
    "Untuk melihat persebaran nilai, ditampilkan dalam diagram batang dengan interval kelas 0.5, untuk rentang 6.0 hingga 8.5 supaya mencakup keseluruhan datanya. Dapat dilihat bahwa nilai pegawai pemprov Jabar adalah terdistribusi normal didominasi rentang nilai 7.0-7.5."
   ]
  },
  {
   "cell_type": "code",
   "execution_count": 12,
   "metadata": {},
   "outputs": [
    {
     "data": {
      "image/png": "[encoded data removed]",
      "text/plain": [
       "<Figure size 432x288 with 1 Axes>"
      ]
     },
     "metadata": {
      "needs_background": "light"
     },
     "output_type": "display_data"
    }
   ],
   "source": [
    "plt.hist(data[\"Nilai\"], bins=[6.0,6.5,7.0,7.5,8.0,8.5])\n",
    "plt.title(\"Persebaran nilai pegawai\")\n",
    "plt.show()"
   ]
  },
  {
   "cell_type": "markdown",
   "metadata": {},
   "source": [
    "## Analisis Lanjut\n",
    "\n",
    "Dari masing-masing penjelasan di atas, dapat dianalisis lebih lanjut persebaran nilai berdasakan fitur usia, satuan kerja, dan tingkat pendidikan pegawai. Analisis ini dilakukan untuk melihat hubungan ketiga fitur tersebut terhadap nilai pegawai."
   ]
  },
  {
   "cell_type": "code",
   "execution_count": 13,
   "metadata": {},
   "outputs": [],
   "source": [
    "fitur = [\"Usia\",\"Satuan Kerja\",\"Tingkat Pendidikan Akhir\",\"Nilai\"]\n",
    "data_fitur = data[fitur]"
   ]
  },
  {
   "cell_type": "markdown",
   "metadata": {},
   "source": [
    "- Korelasi antara usia dan nilai pegawai"
   ]
  },
  {
   "cell_type": "code",
   "execution_count": 14,
   "metadata": {
    "scrolled": true
   },
   "outputs": [
    {
     "name": "stdout",
     "output_type": "stream",
     "text": [
      "           Usia     Nilai\n",
      "Usia   1.000000 -0.127943\n",
      "Nilai -0.127943  1.000000\n"
     ]
    }
   ],
   "source": [
    "korelasi_usia_nilai = data_fitur.corr()\n",
    "print(korelasi_usia_nilai)"
   ]
  },
  {
   "cell_type": "code",
   "execution_count": 15,
   "metadata": {},
   "outputs": [
    {
     "name": "stderr",
     "output_type": "stream",
     "text": [
      "C:\\Users\\Thomas\\AppData\\Local\\Continuum\\anaconda3\\lib\\site-packages\\seaborn\\axisgrid.py:1847: UserWarning: JointGrid annotation is deprecated and will be removed in a future release.\n",
      "  warnings.warn(UserWarning(msg))\n"
     ]
    },
    {
     "data": {
      "image/png": "[encoded data removed]",
      "text/plain": [
       "<Figure size 432x432 with 3 Axes>"
      ]
     },
     "metadata": {
      "needs_background": "light"
     },
     "output_type": "display_data"
    }
   ],
   "source": [
    "g = sns.JointGrid(x=\"Usia\",y=\"Nilai\", data= data_fitur)\n",
    "_ = g.plot_joint(plt.scatter)\n",
    "_ = g.ax_marg_x.hist(data_fitur[\"Usia\"],bins=[25,30,35,40,45,50,55,60,65])\n",
    "_ = g.ax_marg_y.hist(data_fitur[\"Nilai\"],orientation=\"horizontal\",bins=[6.0,6.5,7.0,7.5,8.0,8.5])\n",
    "_ = g.annotate(stats.pearsonr)"
   ]
  },
  {
   "cell_type": "markdown",
   "metadata": {},
   "source": [
    "Terlihat bahwa korelasi antara usia dan nilai ternyata kecil, yaitu -0.128, yang menunjukkan tidak ada hubungan antara usia dan nilai. Dengan kata lain, pegawai tua dan muda mampu menghasilkan nilai yang tinggi."
   ]
  },
  {
   "cell_type": "markdown",
   "metadata": {},
   "source": [
    "- Korelasi antara tingkat pendidikan dan nilai pegawai"
   ]
  },
  {
   "cell_type": "code",
   "execution_count": 16,
   "metadata": {
    "scrolled": true
   },
   "outputs": [
    {
     "data": {
      "text/plain": [
       "Tingkat Pendidikan Akhir\n",
       "S2      8.184520\n",
       "S3      7.884360\n",
       "S1      7.320676\n",
       "SLTP    7.151930\n",
       "D3      6.999440\n",
       "SLTA    6.944505\n",
       "D4      6.844037\n",
       "SD      6.556120\n",
       "Name: Nilai, dtype: float64"
      ]
     },
     "execution_count": 16,
     "metadata": {},
     "output_type": "execute_result"
    }
   ],
   "source": [
    "data_fitur[\"Nilai\"].groupby(data_fitur[\"Tingkat Pendidikan Akhir\"]).mean().sort_values(ascending=False)"
   ]
  },
  {
   "cell_type": "code",
   "execution_count": 17,
   "metadata": {},
   "outputs": [
    {
     "data": {
      "image/png": "[encoded data removed]",
      "text/plain": [
       "<Figure size 540x360 with 1 Axes>"
      ]
     },
     "metadata": {
      "needs_background": "light"
     },
     "output_type": "display_data"
    }
   ],
   "source": [
    "sns.catplot(x=\"Tingkat Pendidikan Akhir\",y=\"Nilai\",kind=\"point\",data=data_fitur,\n",
    "            order=[\"S3\",\"S2\",\"S1\",\"D4\",\"D3\",\"SLTA\",\"SLTP\",\"SD\"],\n",
    "            capsize=.2,aspect=1.5)\n",
    "sns.despine(left=True)\n",
    "plt.suptitle(\"Nilai rata-rata pegawai berdasarkan tingkat pendidikan akhir\",fontsize=15)\n",
    "plt.show()"
   ]
  },
  {
   "cell_type": "code",
   "execution_count": 18,
   "metadata": {},
   "outputs": [
    {
     "data": {
      "image/png": "[encoded data removed]",
      "text/plain": [
       "<Figure size 720x432 with 1 Axes>"
      ]
     },
     "metadata": {
      "needs_background": "light"
     },
     "output_type": "display_data"
    }
   ],
   "source": [
    "plt.figure(figsize=(10,6))\n",
    "sns.boxplot(x=\"Tingkat Pendidikan Akhir\",y=\"Nilai\",data=data_fitur,\n",
    "            order=[\"S3\",\"S2\",\"S1\",\"D4\",\"D3\",\"SLTA\",\"SLTP\",\"SD\"])\n",
    "plt.suptitle(\"Persebaran data nilai pegawai berdasarkan tingkat pendidikan akhir\",fontsize=15)\n",
    "plt.show()"
   ]
  },
  {
   "cell_type": "markdown",
   "metadata": {},
   "source": [
    "Berdasarkan tingkat pendidikannya, nilai rata-rata pegawai terbaik adalah pegawai lulusan S2 dengan nilai 8.18, yang merupakan nilai sebenarnya dari satu orang, karena di dalam data pegawai hanya ada satu orang dengan lulusan S2.\n",
    "Peringkat berikutnya disusul oleh pegawai S3 dan S1.\n",
    "\n",
    "Hal menarik dapat dilihat dalam _boxplot_, karena hanya ditunjang oleh satu data, maka hanya terbentuk garis yang merupakan nilai asli kategori tersebut, seperti pada kategori S3, S2, SLTP, dan SD. Sementara, untuk kategori yang memiliki labih dari satu data, terbentuk zona interkuartil beserta garis mediannya. Pada kategori S1 juga terlihat bahwa terdapat _outliers_ yang nilainya sangat jauh dibandingkan dengan nilai-nilai lainnya, bahkan nilai individu tersebut lebih tinggi dari nilai pada kategori S3 dan S2.\n",
    "\n",
    "Persebaran nilai untuk kategori D4 terkonsentrasi pada nilai sekitar 6.5, sedangkan untuk D3 di kisaran 7.25 yang terlihat garis median yang hampir berimpit dengan batas zona interkuartil. Persebaran data kategori SLTA dapat dikatakan merata."
   ]
  },
  {
   "cell_type": "markdown",
   "metadata": {},
   "source": [
    "- Korelasi antara satuan kerja dan nilai pegawai"
   ]
  },
  {
   "cell_type": "code",
   "execution_count": 19,
   "metadata": {},
   "outputs": [
    {
     "data": {
      "text/plain": [
       "Satuan Kerja\n",
       "BADAN D    7.521354\n",
       "DINAS A    7.388270\n",
       "DINAS P    7.215886\n",
       "BADAN B    7.123576\n",
       "DINAS F    7.040122\n",
       "DINAS B    6.825538\n",
       "Name: Nilai, dtype: float64"
      ]
     },
     "execution_count": 19,
     "metadata": {},
     "output_type": "execute_result"
    }
   ],
   "source": [
    "data_fitur[\"Nilai\"].groupby(data_fitur[\"Satuan Kerja\"]).mean().sort_values(ascending=False)"
   ]
  },
  {
   "cell_type": "code",
   "execution_count": 20,
   "metadata": {},
   "outputs": [
    {
     "data": {
      "image/png": "[encoded data removed]",
      "text/plain": [
       "<Figure size 540x360 with 1 Axes>"
      ]
     },
     "metadata": {
      "needs_background": "light"
     },
     "output_type": "display_data"
    }
   ],
   "source": [
    "sns.catplot(x=\"Satuan Kerja\",y=\"Nilai\",kind=\"point\",data=data_fitur,\n",
    "            order=[\"BADAN B\",\"BADAN D\",\"DINAS A\",\"DINAS B\",\"DINAS F\",\"DINAS P\"],\n",
    "            capsize=.2,aspect=1.5)\n",
    "sns.despine(left=True)\n",
    "plt.suptitle(\"Nilai rata-rata pegawai berdasarkan satuan kerja\",fontsize=15)\n",
    "plt.show()"
   ]
  },
  {
   "cell_type": "code",
   "execution_count": 21,
   "metadata": {},
   "outputs": [
    {
     "data": {
      "image/png": "[encoded data removed]",
      "text/plain": [
       "<Figure size 720x432 with 1 Axes>"
      ]
     },
     "metadata": {
      "needs_background": "light"
     },
     "output_type": "display_data"
    }
   ],
   "source": [
    "plt.figure(figsize=(10,6))\n",
    "sns.boxplot(x=\"Satuan Kerja\",y=\"Nilai\",data=data_fitur,\n",
    "            order=[\"BADAN B\",\"BADAN D\",\"DINAS A\",\"DINAS B\",\"DINAS F\",\"DINAS P\"])\n",
    "plt.suptitle(\"Persebaran data nilai pegawai berdasarkan satuan kerja\",fontsize=15)\n",
    "plt.show()"
   ]
  },
  {
   "cell_type": "markdown",
   "metadata": {},
   "source": [
    "BADAN D memiliki nilai pegawai terbaik dibandingkan dengan satuan kerja lainnya dengan nilai rata-rata 7.52. Disusul oleh DINAS A dan DINAS P, dengan nilai masing-masing 7.39 dan 7.22.\n",
    "\n",
    "Pada _boxplot_ terlihat hal yang menonjol pada sebagian besar kategori, yaitu memiliki _outliers_. Hal ini menandakan ada pegawai yang hasil kerjanya kontras dibandingkan dengan rekan-rekannya dalam satu satuan kerja. Pegawai dengan nilai lebih tinggi dalam satu satuan kerja terdapat di DINAS A dan DINAS B. Sedangkan, pegawai dengan nilai lebih rendah dibandingkan dengan rekan-rekan satu satuan kerjanya terdapat di BADAN B, DINAS F, dan DINAS P.\n",
    "\n",
    "Secara keseluruhan nilai pegawai berada pada rentang 7.0-7.5, kecuali pada DINAS B yang kebanyakan diisi pegawai dengan nilai rendah, yaitu di bawah 7.0. Persebaran nilai pegawai dalam satu satuan kerja sebagian besar tidak merata, yang dapat dilihat dari garis median yang tidak persis di tengah-tengah kotak."
   ]
  },
  {
   "cell_type": "markdown",
   "metadata": {},
   "source": [
    "- Memoroskan data nilai pegawai terhadap satuan kerja dan tingkat pendidikan akhir."
   ]
  },
  {
   "cell_type": "code",
   "execution_count": 22,
   "metadata": {},
   "outputs": [
    {
     "data": {
      "text/html": [
       "<div>\n",
       "<style scoped>\n",
       "    .dataframe tbody tr th:only-of-type {\n",
       "        vertical-align: middle;\n",
       "    }\n",
       "\n",
       "    .dataframe tbody tr th {\n",
       "        vertical-align: top;\n",
       "    }\n",
       "\n",
       "    .dataframe thead tr th {\n",
       "        text-align: left;\n",
       "    }\n",
       "\n",
       "    .dataframe thead tr:last-of-type th {\n",
       "        text-align: right;\n",
       "    }\n",
       "</style>\n",
       "<table border=\"1\" class=\"dataframe\">\n",
       "  <thead>\n",
       "    <tr>\n",
       "      <th></th>\n",
       "      <th></th>\n",
       "      <th colspan=\"4\" halign=\"left\">Nilai</th>\n",
       "    </tr>\n",
       "    <tr>\n",
       "      <th></th>\n",
       "      <th></th>\n",
       "      <th>count</th>\n",
       "      <th>max</th>\n",
       "      <th>mean</th>\n",
       "      <th>min</th>\n",
       "    </tr>\n",
       "    <tr>\n",
       "      <th>Satuan Kerja</th>\n",
       "      <th>Tingkat Pendidikan Akhir</th>\n",
       "      <th></th>\n",
       "      <th></th>\n",
       "      <th></th>\n",
       "      <th></th>\n",
       "    </tr>\n",
       "  </thead>\n",
       "  <tbody>\n",
       "    <tr>\n",
       "      <th rowspan=\"3\" valign=\"top\">BADAN B</th>\n",
       "      <th>D4</th>\n",
       "      <td>1</td>\n",
       "      <td>6.47174</td>\n",
       "      <td>6.471740</td>\n",
       "      <td>6.47174</td>\n",
       "    </tr>\n",
       "    <tr>\n",
       "      <th>S1</th>\n",
       "      <td>3</td>\n",
       "      <td>7.54592</td>\n",
       "      <td>7.255887</td>\n",
       "      <td>7.04317</td>\n",
       "    </tr>\n",
       "    <tr>\n",
       "      <th>SLTA</th>\n",
       "      <td>1</td>\n",
       "      <td>7.37848</td>\n",
       "      <td>7.378480</td>\n",
       "      <td>7.37848</td>\n",
       "    </tr>\n",
       "    <tr>\n",
       "      <th rowspan=\"3\" valign=\"top\">BADAN D</th>\n",
       "      <th>D4</th>\n",
       "      <td>1</td>\n",
       "      <td>7.68367</td>\n",
       "      <td>7.683670</td>\n",
       "      <td>7.68367</td>\n",
       "    </tr>\n",
       "    <tr>\n",
       "      <th>S1</th>\n",
       "      <td>3</td>\n",
       "      <td>7.60423</td>\n",
       "      <td>7.246193</td>\n",
       "      <td>7.03231</td>\n",
       "    </tr>\n",
       "    <tr>\n",
       "      <th>S2</th>\n",
       "      <td>1</td>\n",
       "      <td>8.18452</td>\n",
       "      <td>8.184520</td>\n",
       "      <td>8.18452</td>\n",
       "    </tr>\n",
       "    <tr>\n",
       "      <th rowspan=\"3\" valign=\"top\">DINAS A</th>\n",
       "      <th>D3</th>\n",
       "      <td>1</td>\n",
       "      <td>7.19048</td>\n",
       "      <td>7.190480</td>\n",
       "      <td>7.19048</td>\n",
       "    </tr>\n",
       "    <tr>\n",
       "      <th>S1</th>\n",
       "      <td>3</td>\n",
       "      <td>8.40363</td>\n",
       "      <td>7.599680</td>\n",
       "      <td>7.13010</td>\n",
       "    </tr>\n",
       "    <tr>\n",
       "      <th>SLTA</th>\n",
       "      <td>1</td>\n",
       "      <td>6.95183</td>\n",
       "      <td>6.951830</td>\n",
       "      <td>6.95183</td>\n",
       "    </tr>\n",
       "    <tr>\n",
       "      <th rowspan=\"4\" valign=\"top\">DINAS B</th>\n",
       "      <th>D3</th>\n",
       "      <td>2</td>\n",
       "      <td>6.79435</td>\n",
       "      <td>6.570645</td>\n",
       "      <td>6.34694</td>\n",
       "    </tr>\n",
       "    <tr>\n",
       "      <th>S3</th>\n",
       "      <td>1</td>\n",
       "      <td>7.88436</td>\n",
       "      <td>7.884360</td>\n",
       "      <td>7.88436</td>\n",
       "    </tr>\n",
       "    <tr>\n",
       "      <th>SD</th>\n",
       "      <td>1</td>\n",
       "      <td>6.55612</td>\n",
       "      <td>6.556120</td>\n",
       "      <td>6.55612</td>\n",
       "    </tr>\n",
       "    <tr>\n",
       "      <th>SLTA</th>\n",
       "      <td>1</td>\n",
       "      <td>6.54592</td>\n",
       "      <td>6.545920</td>\n",
       "      <td>6.54592</td>\n",
       "    </tr>\n",
       "    <tr>\n",
       "      <th rowspan=\"3\" valign=\"top\">DINAS F</th>\n",
       "      <th>D4</th>\n",
       "      <td>1</td>\n",
       "      <td>6.37670</td>\n",
       "      <td>6.376700</td>\n",
       "      <td>6.37670</td>\n",
       "    </tr>\n",
       "    <tr>\n",
       "      <th>S1</th>\n",
       "      <td>3</td>\n",
       "      <td>7.47704</td>\n",
       "      <td>7.223993</td>\n",
       "      <td>7.00234</td>\n",
       "    </tr>\n",
       "    <tr>\n",
       "      <th>SLTP</th>\n",
       "      <td>1</td>\n",
       "      <td>7.15193</td>\n",
       "      <td>7.151930</td>\n",
       "      <td>7.15193</td>\n",
       "    </tr>\n",
       "    <tr>\n",
       "      <th rowspan=\"3\" valign=\"top\">DINAS P</th>\n",
       "      <th>D3</th>\n",
       "      <td>2</td>\n",
       "      <td>7.48516</td>\n",
       "      <td>7.332715</td>\n",
       "      <td>7.18027</td>\n",
       "    </tr>\n",
       "    <tr>\n",
       "      <th>S1</th>\n",
       "      <td>2</td>\n",
       "      <td>7.32173</td>\n",
       "      <td>7.256105</td>\n",
       "      <td>7.19048</td>\n",
       "    </tr>\n",
       "    <tr>\n",
       "      <th>SLTA</th>\n",
       "      <td>1</td>\n",
       "      <td>6.90179</td>\n",
       "      <td>6.901790</td>\n",
       "      <td>6.90179</td>\n",
       "    </tr>\n",
       "  </tbody>\n",
       "</table>\n",
       "</div>"
      ],
      "text/plain": [
       "                                      Nilai                            \n",
       "                                      count      max      mean      min\n",
       "Satuan Kerja Tingkat Pendidikan Akhir                                  \n",
       "BADAN B      D4                           1  6.47174  6.471740  6.47174\n",
       "             S1                           3  7.54592  7.255887  7.04317\n",
       "             SLTA                         1  7.37848  7.378480  7.37848\n",
       "BADAN D      D4                           1  7.68367  7.683670  7.68367\n",
       "             S1                           3  7.60423  7.246193  7.03231\n",
       "             S2                           1  8.18452  8.184520  8.18452\n",
       "DINAS A      D3                           1  7.19048  7.190480  7.19048\n",
       "             S1                           3  8.40363  7.599680  7.13010\n",
       "             SLTA                         1  6.95183  6.951830  6.95183\n",
       "DINAS B      D3                           2  6.79435  6.570645  6.34694\n",
       "             S3                           1  7.88436  7.884360  7.88436\n",
       "             SD                           1  6.55612  6.556120  6.55612\n",
       "             SLTA                         1  6.54592  6.545920  6.54592\n",
       "DINAS F      D4                           1  6.37670  6.376700  6.37670\n",
       "             S1                           3  7.47704  7.223993  7.00234\n",
       "             SLTP                         1  7.15193  7.151930  7.15193\n",
       "DINAS P      D3                           2  7.48516  7.332715  7.18027\n",
       "             S1                           2  7.32173  7.256105  7.19048\n",
       "             SLTA                         1  6.90179  6.901790  6.90179"
      ]
     },
     "execution_count": 22,
     "metadata": {},
     "output_type": "execute_result"
    }
   ],
   "source": [
    "pd.pivot_table(data_fitur,index=[\"Satuan Kerja\",\"Tingkat Pendidikan Akhir\"],\n",
    "               values=[\"Nilai\"],aggfunc=({\"Nilai\":[\"min\",\"max\",np.mean,\"count\"]}))"
   ]
  },
  {
   "cell_type": "markdown",
   "metadata": {},
   "source": [
    "- Grafik nilai rata-rata pegawai setiap satuan kerja dalam berbagai tingkat pendidikan\n",
    "\n"
   ]
  },
  {
   "cell_type": "code",
   "execution_count": 23,
   "metadata": {},
   "outputs": [
    {
     "data": {
      "image/png": "[encoded data removed]",
      "text/plain": [
       "<Figure size 1021.55x360 with 1 Axes>"
      ]
     },
     "metadata": {
      "needs_background": "light"
     },
     "output_type": "display_data"
    }
   ],
   "source": [
    "sns.catplot(x=\"Satuan Kerja\",y=\"Nilai\",hue=\"Tingkat Pendidikan Akhir\",data=data_fitur,\n",
    "            kind=\"bar\",hue_order=[\"S3\",\"S2\",\"S1\",\"D4\",\"D3\",\"SLTA\",\"SLTP\",\"SD\"],\n",
    "            aspect=2.5)\n",
    "sns.despine(left=True)\n",
    "plt.suptitle(\"Rata-rata nilai pegawai berdasarkan satuan kerja dan tingkat pendidikan akhir\",\n",
    "             fontsize=16,\n",
    "             position= (0.45,1),va=\"top\")\n",
    "plt.show()"
   ]
  },
  {
   "cell_type": "markdown",
   "metadata": {},
   "source": [
    "Setiap satuan kerja sebagian besar diisi oleh pegawai dengan tiga jenis tingkat pendidikan, kecuali DINAS B yang memiliki empat jenis. Secara umum, tidak semua tingkat pendidikan berada dalam satuan kerja.\n",
    "\n",
    "DINAS B memiliki perbedaan tingkat pendidikan terjauh, yaitu dari S3 lalu langsung ke D3 dan di bawahnya, serta efeknya terhadap nilai yang demikian jauh perbedaannya. Sementara satuan kerja lain, perbedaannya tidak jauh. Dapat disimpulkan bahwa _gap_ antara tingkat pendidikan berpengaruh terhadap nilai pegawai dalam satu satuan kerja.\n",
    "\n",
    "Nilai pegawai yang tinggi dapat dilihat di satuan kerja BADAN D yang memiliki nilai di atas 7. Oleh karena itu, sebagai acuan untuk pegawai dengan performa terbaik disarankan berdasarkan rata-rata nilai pegawai di BADAN D."
   ]
  },
  {
   "cell_type": "markdown",
   "metadata": {},
   "source": [
    "# Rekomendasi\n",
    "\n",
    "Dari tabel di atas, rata-rata nilai BADAN D paling tinggi karena ada satu pegawai lulusan S2 yang memiliki nilai yang tinggi, yaitu 8.18. Nilai ini juga yang paling tinggi di antara tingkat pendidikan yang lain karena hanya satu pegawai yang merupakan lulusan S2. Sementara itu, nilai tertinggi diperoleh oleh pegawai lulusan S1 yang berada di DINAS A dengan nilai 8.40. DINAS A sendiri memiliki nilai rata-rata kedua tertinggi.\n",
    "\n",
    "Untuk menentukan performa, diperlukan nilai ambang batas atau _threshold_ sehingga seorang pegawai dapat dikategorikan memiliki performa sangat baik atau tidak. Oleh karena itu, nilai ambang batas dapat ditentukan dari fitur-fitur yang mempengaruhi nilai pegawai, yaitu tingkat pendidikan akhir, usia, dan satuan kerja.\n",
    "\n",
    "Berdasarkan tingkat pendidikan akhir, 30 pegawai berasal dari kategori pendidikan yang berbeda-beda. Sebagian besar kategori pun hanya diisi satu orang. Nilai rata-rata berdasarkan tingkat pendidikan akhir banyak didominasi oleh satu orang sehingga kurang adil untuk menentukan batas nilai berdasarkan pendidikan. Berdasarkan usia pun demikian sulit karena tidak ada korelasi antara usia dan nilai pegawai.\n",
    "\n",
    "Penentuan paling mudah yang bisa dijelaskan adalah berdasarkan nilai rata-rata pegawai dalam satuan kerja. Hal ini terlihat bahwa pegawai bekerja untuk satuan kerja tersebut sehingga nilai yang diperolehnya pun berdasarkan hasil kerja untuk satuan kerja tersebut. Untuk mengkategorikan performa pegawai yang sangat baik bisa dilihat dari satuan kerja yang memilki nilai rata-rata pegawai tertinggi sebagai nilai ambang batasnya, yaitu BADAN D dengan nilai 7.52 atau dibulatkan menjadi 7.50.\n",
    "\n",
    "Untuk meningkatkan kinerja dari tiap pegawai, sebaiknya dalam satu satuan kerja jangan dibiarkan ada perbedaan rentang pendidikan yang terlalu jauh. Perbedaan jenjang pendidikan yang kecil akan membuat pegawai tidak tertekan dalam bekerja."
   ]
  },
  {
   "cell_type": "markdown",
   "metadata": {},
   "source": [
    "## Pegawai dengan Performa Terbaik\n",
    "\n",
    "Berikut merupakan pegawai yang dikategorikan berperforma sangat baik berdasarkan nilai ambang batas yang dipilih. Sebagian besar pegawai merupakan lulusan S1, S2, dan S3 serta tentunya sebagian besar berasal dari BADAN D yang merupakan asal nilai yang dipilih untuk menentukan nilai ambang batas. Sisi menarik dari segi usia, sesuai dengan nilai korelasi, bahwa pegawai muda dan pegawai tua mampu berperforma sangat baik."
   ]
  },
  {
   "cell_type": "code",
   "execution_count": 24,
   "metadata": {},
   "outputs": [
    {
     "data": {
      "text/html": [
       "<div>\n",
       "<style scoped>\n",
       "    .dataframe tbody tr th:only-of-type {\n",
       "        vertical-align: middle;\n",
       "    }\n",
       "\n",
       "    .dataframe tbody tr th {\n",
       "        vertical-align: top;\n",
       "    }\n",
       "\n",
       "    .dataframe thead th {\n",
       "        text-align: right;\n",
       "    }\n",
       "</style>\n",
       "<table border=\"1\" class=\"dataframe\">\n",
       "  <thead>\n",
       "    <tr style=\"text-align: right;\">\n",
       "      <th></th>\n",
       "      <th>ID PERSON</th>\n",
       "      <th>Tingkat Pendidikan Akhir</th>\n",
       "      <th>Usia</th>\n",
       "      <th>Satuan Kerja</th>\n",
       "      <th>Bulan</th>\n",
       "      <th>Nilai</th>\n",
       "      <th>Performa Sangat Baik</th>\n",
       "    </tr>\n",
       "  </thead>\n",
       "  <tbody>\n",
       "    <tr>\n",
       "      <th>0</th>\n",
       "      <td>1001</td>\n",
       "      <td>S3</td>\n",
       "      <td>61</td>\n",
       "      <td>DINAS B</td>\n",
       "      <td>Juli</td>\n",
       "      <td>7.88436</td>\n",
       "      <td>YA</td>\n",
       "    </tr>\n",
       "    <tr>\n",
       "      <th>2</th>\n",
       "      <td>1003</td>\n",
       "      <td>S2</td>\n",
       "      <td>57</td>\n",
       "      <td>BADAN D</td>\n",
       "      <td>Juli</td>\n",
       "      <td>8.18452</td>\n",
       "      <td>YA</td>\n",
       "    </tr>\n",
       "    <tr>\n",
       "      <th>12</th>\n",
       "      <td>1013</td>\n",
       "      <td>S1</td>\n",
       "      <td>42</td>\n",
       "      <td>BADAN B</td>\n",
       "      <td>Juli</td>\n",
       "      <td>7.54592</td>\n",
       "      <td>YA</td>\n",
       "    </tr>\n",
       "    <tr>\n",
       "      <th>14</th>\n",
       "      <td>1015</td>\n",
       "      <td>S1</td>\n",
       "      <td>41</td>\n",
       "      <td>BADAN D</td>\n",
       "      <td>Juli</td>\n",
       "      <td>7.60423</td>\n",
       "      <td>YA</td>\n",
       "    </tr>\n",
       "    <tr>\n",
       "      <th>24</th>\n",
       "      <td>1025</td>\n",
       "      <td>D4</td>\n",
       "      <td>27</td>\n",
       "      <td>BADAN D</td>\n",
       "      <td>Juli</td>\n",
       "      <td>7.68367</td>\n",
       "      <td>YA</td>\n",
       "    </tr>\n",
       "    <tr>\n",
       "      <th>27</th>\n",
       "      <td>1028</td>\n",
       "      <td>S1</td>\n",
       "      <td>25</td>\n",
       "      <td>DINAS A</td>\n",
       "      <td>Juli</td>\n",
       "      <td>8.40363</td>\n",
       "      <td>YA</td>\n",
       "    </tr>\n",
       "  </tbody>\n",
       "</table>\n",
       "</div>"
      ],
      "text/plain": [
       "    ID PERSON Tingkat Pendidikan Akhir  Usia Satuan Kerja Bulan    Nilai  \\\n",
       "0        1001                       S3    61      DINAS B  Juli  7.88436   \n",
       "2        1003                       S2    57      BADAN D  Juli  8.18452   \n",
       "12       1013                       S1    42      BADAN B  Juli  7.54592   \n",
       "14       1015                       S1    41      BADAN D  Juli  7.60423   \n",
       "24       1025                       D4    27      BADAN D  Juli  7.68367   \n",
       "27       1028                       S1    25      DINAS A  Juli  8.40363   \n",
       "\n",
       "   Performa Sangat Baik  \n",
       "0                    YA  \n",
       "2                    YA  \n",
       "12                   YA  \n",
       "14                   YA  \n",
       "24                   YA  \n",
       "27                   YA  "
      ]
     },
     "execution_count": 24,
     "metadata": {},
     "output_type": "execute_result"
    }
   ],
   "source": [
    "thresh = data_fitur[\"Nilai\"].groupby(data_fitur[\"Satuan Kerja\"]).mean().max().round(1)\n",
    "data[\"Performa Sangat Baik\"] = data[\"Nilai\"].apply(lambda x: \"YA\" if x >= thresh else \"TIDAK\")\n",
    "data[data[\"Performa Sangat Baik\"] == \"YA\"]"
   ]
  },
  {
   "cell_type": "markdown",
   "metadata": {},
   "source": [
    "Berdasarkan hasil analisis yang telah dilakukan, diperoleh enam orang pegawai yang termasuk memiliki performa yang sangat baik. Kembali melihat plot antara satuan kerja dan nilai, pegawai yang menunjukkan nilai yang tinggi (kontras) terhadap pegawai lain di dalam satuan kerjanya termasuk kategori ini. Dapat disimpulkan bahwa untuk Bulan Juli memang enam orang pegawai ini yang terbaik."
   ]
  },
  {
   "cell_type": "markdown",
   "metadata": {},
   "source": [
    "# Penutup\n",
    "\n",
    "Demikian rekomendasi dan hasil yang telah dibuat berdasarkan analisis pada data pegawai pemerintah Provinsi Jawa Barat. Terima kasih."
   ]
  }
 ],
 "metadata": {
  "kernelspec": {
   "display_name": "Python 3",
   "language": "python",
   "name": "python3"
  },
  "language_info": {
   "codemirror_mode": {
    "name": "ipython",
    "version": 3
   },
   "file_extension": ".py",
   "mimetype": "text/x-python",
   "name": "python",
   "nbconvert_exporter": "python",
   "pygments_lexer": "ipython3",
   "version": "3.7.3"
  }
 },
 "nbformat": 4,
 "nbformat_minor": 2
}
